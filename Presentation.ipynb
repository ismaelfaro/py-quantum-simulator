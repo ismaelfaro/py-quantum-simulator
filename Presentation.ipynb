{
 "cells": [
  {
   "cell_type": "raw",
   "metadata": {
    "slideshow": {
     "slide_type": "slide"
    }
   },
   "source": [
    "Creating your Quantum Simulator in less of 200 Lines of code\n"
   ]
  },
  {
   "cell_type": "raw",
   "metadata": {},
   "source": [
    "@ismaelfaro - IBM Quantum Research "
   ]
  },
  {
   "cell_type": "raw",
   "metadata": {
    "slideshow": {
     "slide_type": "slide"
    }
   },
   "source": [
    "Basic components"
   ]
  },
  {
   "cell_type": "raw",
   "metadata": {},
   "source": [
    "- Qubits\n",
    "- Quantum Gates\n",
    "- Quantum Circuits\n",
    "- Quantum Programs\n",
    "- Quantum Simulator"
   ]
  },
  {
   "cell_type": "markdown",
   "metadata": {
    "slideshow": {
     "slide_type": "subslide"
    }
   },
   "source": [
    "### Quantum Computer\n",
    "![IBM system one](https://cdn.vox-cdn.com/thumbor/XCekKKK5HjdlIm3gK-wXnwDl5FU=/1400x1050/filters:format(jpeg)/cdn.vox-cdn.com/uploads/chorus_asset/file/13675937/46602874791_c009b3def8_o.jpg)"
   ]
  },
  {
   "cell_type": "markdown",
   "metadata": {
    "slideshow": {
     "slide_type": "subslide"
    }
   },
   "source": [
    "### Superconducting Qubits - Quantum Computer\n",
    "![IBM fridge](https://www.ibm.com/blogs/research/wp-content/uploads/2020/01/QLA_figure1.jpg)"
   ]
  },
  {
   "cell_type": "markdown",
   "metadata": {
    "slideshow": {
     "slide_type": "subslide"
    }
   },
   "source": [
    "### Superconducting Qubits\n",
    "![quantum chip](https://6lli539m39y3hpkelqsm3c2fg-wpengine.netdna-ssl.com/wp-content/uploads/2020/09/IBM-Quantum-Hummingbird_700x-675x366.jpg)\n",
    "![Superconducting Qubits](https://www.zurich.ibm.com/images/st/quantum/superconductingqubit.png)\n",
    "[more info](https://en.wikipedia.org/wiki/Transmon)"
   ]
  },
  {
   "cell_type": "raw",
   "metadata": {
    "slideshow": {
     "slide_type": "subslide"
    }
   },
   "source": [
    "Qubits\n",
    "- Superposition\n",
    "- Entanglement\n"
   ]
  },
  {
   "cell_type": "markdown",
   "metadata": {
    "slideshow": {
     "slide_type": "subslide"
    }
   },
   "source": [
    "![superposition](https://miro.medium.com/max/2000/1*RASyPLhYA9osp7edAun6eA.png)"
   ]
  },
  {
   "cell_type": "markdown",
   "metadata": {
    "slideshow": {
     "slide_type": "subslide"
    }
   },
   "source": [
    "### Bloch Sphere\n",
    "![Bloch Sphere](https://s3.us-south.cloud-object-storage.appdomain.cloud/strapi/d382d3105b154856bcb3a99656954ad2bloch.png)\n",
    "\n",
    "\n",
    "[bloch interactive](https://javafxpert.github.io/grok-bloch/)"
   ]
  },
  {
   "cell_type": "markdown",
   "metadata": {
    "slideshow": {
     "slide_type": "subslide"
    }
   },
   "source": [
    "![entanglement](https://miro.medium.com/max/2000/1*qTQHpNE3euvAtKz7igdR5w.png)"
   ]
  },
  {
   "cell_type": "markdown",
   "metadata": {
    "slideshow": {
     "slide_type": "subslide"
    }
   },
   "source": [
    "# 8 bit register\n",
    "## [0][0][0][0][0][0][0][0]  = 1 state from 0..255\n",
    "\n",
    "# 8 Qubits:\n",
    "## [0..1][0..1][0..1][0..1][0..1][0..1][0..1][0..1] = 2^8 states at the same time"
   ]
  },
  {
   "cell_type": "raw",
   "metadata": {
    "slideshow": {
     "slide_type": "subslide"
    }
   },
   "source": [
    "Quantum Gates"
   ]
  },
  {
   "cell_type": "markdown",
   "metadata": {
    "slideshow": {
     "slide_type": "subslide"
    }
   },
   "source": [
    "# Classical Gates\n",
    "![Classical Gates](https://qiskit.org/textbook/ch-states/images/classical_circuit.png)\n"
   ]
  },
  {
   "cell_type": "markdown",
   "metadata": {
    "slideshow": {
     "slide_type": "subslide"
    }
   },
   "source": [
    "# Quantum Gates\n",
    "![Quantum Gates](https://iqx-docs.quantum-computing.ibm.com//_images/drag-drop.png)\n",
    "\n",
    "[Quantum Gates](https://quantum-computing.ibm.com/docs/iqx/operations-glossary#h-gate)\n",
    "\n"
   ]
  },
  {
   "cell_type": "markdown",
   "metadata": {
    "slideshow": {
     "slide_type": "subslide"
    }
   },
   "source": [
    "# Quantum Circuits\n",
    "[Circuit Composer](https://quantum-computing.ibm.com/composer/5bf50067d1ee276fe2e39497bbdea3fa)"
   ]
  },
  {
   "cell_type": "markdown",
   "metadata": {
    "slideshow": {
     "slide_type": "slide"
    }
   },
   "source": [
    "# Simulator\n"
   ]
  },
  {
   "cell_type": "markdown",
   "metadata": {},
   "source": [
    "### Quantum Circuits Class and Gates"
   ]
  },
  {
   "cell_type": "markdown",
   "metadata": {
    "slideshow": {
     "slide_type": "slide"
    }
   },
   "source": [
    "```python\n",
    "qc = QuantumCircuit(5)\n",
    "\n",
    "qc.x(0)\n",
    "qc.h(0)\n",
    "qc.x(1)\n",
    "qc.rx(0,pi/2)\n",
    "qc.cx(0,1)\n",
    "qc.z(0)\n",
    "qc.h(1)\n",
    "qc.cx(1,0)\n",
    "qc.m(0,0)\n",
    "\n",
    "quantumSimulator =  QuantumSimulator(qc)\n",
    "\n",
    "result = quantumSimulator.run(1024, \"counts\")\n",
    "print(result)\n",
    "```"
   ]
  },
  {
   "cell_type": "markdown",
   "metadata": {
    "slideshow": {
     "slide_type": "subslide"
    }
   },
   "source": [
    "```python \n",
    "class QuantumCircuit:\n",
    "    def __init__(self, qubits):\n",
    "        if (qubits < 1):\n",
    "            print('Number of Qubits need to be more than 0')\n",
    "        self.Qubits = qubits\n",
    "        self.circuit = []\n",
    "    \n",
    "    def add_gate(self, gate):\n",
    "        self.circuit.append(gate)\n",
    "        \n",
    "    def x(self, qubit):\n",
    "        self.add_gate(['x',qubit])\n",
    "    \n",
    "    def z(self, qubit):\n",
    "        self.rz(qubit,pi) \n",
    "\n",
    "    def y(self, qubit):\n",
    "        self.rz(qubit,pi)\n",
    "        self.x(qubit)\n",
    "    \n",
    "    def h(self, qubit):\n",
    "        self.add_gate(['h',qubit])\n",
    "```\n",
    "       "
   ]
  },
  {
   "cell_type": "markdown",
   "metadata": {
    "slideshow": {
     "slide_type": "-"
    }
   },
   "source": [
    "https://qiskit.org/textbook/ch-states/single-qubit-gates.html\n"
   ]
  },
  {
   "cell_type": "markdown",
   "metadata": {
    "slideshow": {
     "slide_type": "subslide"
    }
   },
   "source": [
    "```python \n",
    "   \n",
    "    def rx(self, qubit, theta):\n",
    "        self.add_gate(['rx',qubit, theta])\n",
    "    \n",
    "    def ry(self, qubit, theta):\n",
    "        self.rx(qubit,pi/2)\n",
    "        self.h(qubit)\n",
    "        self.rx(qubit,theta)\n",
    "        self.h(qubit)\n",
    "        self.rx(qubit,-pi/2)\n",
    "\n",
    "    def rz(self, qubit, theta):\n",
    "        self.h(qubit)\n",
    "        self.rx(qubit,theta)\n",
    "        self.h(qubit)\n"
   ]
  },
  {
   "cell_type": "markdown",
   "metadata": {
    "slideshow": {
     "slide_type": "subslide"
    }
   },
   "source": [
    "```python   \n",
    "   def cx(self, control, target):\n",
    "        self.add_gate(['cx',control, target])\n",
    "        \n",
    "   def m(self, qubit, target):\n",
    "        self.add_gate(['m',qubit,target])\n"
   ]
  },
  {
   "cell_type": "markdown",
   "metadata": {
    "slideshow": {
     "slide_type": "slide"
    }
   },
   "source": [
    "### Quantum Simulator Class"
   ]
  },
  {
   "cell_type": "markdown",
   "metadata": {
    "slideshow": {
     "slide_type": "subslide"
    }
   },
   "source": [
    "```python\n",
    "class QuantumSimulator:\n",
    "    def __init__(self, quantum_circuit):\n",
    "        self.circuit = quantum_circuit.circuit\n",
    "        self.Qubits =  quantum_circuit.Qubits\n",
    "        self.state_vector = []\n",
    "    \n",
    "    def initialize_state_vector(self):\n",
    "        self.state_vector = [[0.0,0.0] for _ in range(2**self.Qubits)] \n",
    "        self.state_vector[0] = [1.0,0.0] \n",
    "        \n",
    "      "
   ]
  },
  {
   "cell_type": "markdown",
   "metadata": {
    "slideshow": {
     "slide_type": "subslide"
    }
   },
   "source": [
    "```python\n",
    "    def run(self, shots=1024, format=\"statevector\"):\n",
    "\n",
    "            self.initialize_state_vector()\n",
    "            for gate in self.circuit:\n",
    "                if gate[0] in ['x','h','rx']:\n",
    "                    qubit = gate[1]\n",
    "                    ''' the gates affect elements of the statevector in pairs.\n",
    "                        These pairs are the elements whose corresponding bit \n",
    "                        strings differ only on bit `qubit`.\n",
    "                        The following loops allow us to loop over all of these pairs.\n",
    "                        '''\n",
    "                    for counter_qubit in range(2**qubit):\n",
    "                        for counter_state in range(int(2**(self.Qubits-qubit-1))):\n",
    "                            qb0=counter_qubit+(2**qubit+1)*counter_state\n",
    "                            qb1=qb0+(2**qubit)\n",
    "                           \n",
    "\n",
    "```"
   ]
  },
  {
   "cell_type": "markdown",
   "metadata": {
    "slideshow": {
     "slide_type": "subslide"
    }
   },
   "source": [
    "```python\n",
    "if gate[0]=='x':\n",
    "    self.state_vector[qb0], self.state_vector[qb1] = self.state_vector[qb1], \\\n",
    "                                                     self.state_vector[qb0]\n"
   ]
  },
  {
   "cell_type": "markdown",
   "metadata": {
    "slideshow": {
     "slide_type": "fragment"
    }
   },
   "source": [
    "```python\n",
    "qc.x(0)   \n",
    "''' state vector'''\n",
    "q1 q0\n",
    "0  0 = 1+0j >>> Source - qb0\n",
    "0  1 = 0+0j <<< Target - qb1\n",
    "1  0 = 0+0j\n",
    "1  1 = 0+0j\n"
   ]
  },
  {
   "cell_type": "markdown",
   "metadata": {
    "slideshow": {
     "slide_type": "fragment"
    }
   },
   "source": [
    "```python\n",
    "q1 q0\n",
    "0  0 = 0+0j\n",
    "0  1 = 1+0j <<<\n",
    "1  0 = 0+0j\n",
    "1  1 = 0+0j\n",
    "```\n",
    "\n",
    "https://qiskit.org/textbook/ch-states/single-qubit-gates.html\n"
   ]
  },
  {
   "cell_type": "markdown",
   "metadata": {
    "slideshow": {
     "slide_type": "subslide"
    }
   },
   "source": [
    "```python\n",
    "if gate[0]=='h':\n",
    "    superpositionResult = self.superposition(self.state_vector[qb0],\n",
    "                                             self.state_vector[qb1])\n",
    "    self.state_vector[qb0] = superpositionResult[0]\n",
    "    self.state_vector[qb1] = superpositionResult[1]\n"
   ]
  },
  {
   "cell_type": "markdown",
   "metadata": {
    "slideshow": {
     "slide_type": "fragment"
    }
   },
   "source": [
    "```python \n",
    "     def superposition(self, x, y):\n",
    "        '''For two elements of the statevector, x and y, return (x+y)/sqrt(2) \n",
    "           and (x-y)/sqrt(2)'''\n",
    "        return [[r2*(x[0]+y[0]),r2*(x[1]+y[1])],\n",
    "                [r2*(x[0]-y[0]),r2*(x[1]-y[1])]]\n",
    "    \n",
    "    "
   ]
  },
  {
   "cell_type": "markdown",
   "metadata": {
    "slideshow": {
     "slide_type": "subslide"
    }
   },
   "source": [
    "```python\n",
    "if gate[0]=='rx':\n",
    "    theta = gate[2]\n",
    "    turn = self.turn(self.state_vector[qb0],\n",
    "                     self.state_vector[qb1],\n",
    "                     theta)\n",
    "    \n",
    "    self.state_vector[qb0] = turn[0]\n",
    "    self.state_vector[qb1] = turn[1]\n",
    "```"
   ]
  },
  {
   "cell_type": "markdown",
   "metadata": {
    "slideshow": {
     "slide_type": "fragment"
    }
   },
   "source": [
    "```python\n",
    "    def turn(self, x, y, theta):\n",
    "        '''For two elements of the statevector, x and y, \n",
    "           return cos(theta/2)*x - i*sin(theta/2)*y \n",
    "           and cos(theta/2)*y - i*sin(theta/2)*x'''\n",
    "\n",
    "        element1 = [x[0]*cos(theta/2)+y[1]*sin(theta/2),\n",
    "                 x[1]*cos(theta/2)-y[0]*sin(theta/2)]\n",
    "        element2 = [y[0]*cos(theta/2)+x[1]*sin(theta/2),\n",
    "                 y[1]*cos(theta/2)-x[0]*sin(theta/2)]\n",
    "        return [ element1, element2]\n",
    "    "
   ]
  },
  {
   "cell_type": "markdown",
   "metadata": {
    "slideshow": {
     "slide_type": "subslide"
    }
   },
   "source": [
    "```python\n",
    "elif gate[0] == 'cx':\n",
    "    control = gate[1]\n",
    "    target = gate[2]\n",
    "    [low,high] = sorted([control,target])\n",
    "     '''This gate only effects elements whose corresponding bit strings\n",
    "         have a '1' on bit 'control'. Of those, it effects elements in \n",
    "         pairs whose corresponding bit strings differ only on bit `target'\n",
    "         The following loops allow us to loop over all of these pairs.'''\n",
    "    for cx0 in range(2**low):\n",
    "        limit_cx2 = 2**(high-low-1)\n",
    "        for cx1 in range(limit_cx2):\n",
    "            for cx2 in range(2**(self.Qubits-high-1)):\n",
    "                qb0 = cx0 + 2**(low+1)*cx1  \\\n",
    "                          + 2**(high+1)*cx2 \\\n",
    "                          + 2**control  \n",
    "                qb1 = qb0 + 2**target \n",
    "                self.state_vector[qb0],self.state_vector[qb1] = \\\n",
    "                           self.state_vector[qb1],self.state_vector[qb0]\n",
    "                        "
   ]
  },
  {
   "cell_type": "markdown",
   "metadata": {
    "slideshow": {
     "slide_type": "subslide"
    }
   },
   "source": [
    "```python\n",
    "    def get_counts(self, shots):\n",
    "        probabilities = self.probability(shots)\n",
    "        counts = {}\n",
    "        for element in probabilities:\n",
    "            if(element in counts):\n",
    "                counts[element]+=1\n",
    "            else:\n",
    "                counts[element]=1\n",
    "        return counts\n",
    " "
   ]
  },
  {
   "cell_type": "markdown",
   "metadata": {
    "slideshow": {
     "slide_type": "subslide"
    }
   },
   "source": [
    "```python\n",
    "def probability(self, shots):\n",
    "        probabilities = []\n",
    "        for value in self.state_vector: \n",
    "            real_part = value[0]\n",
    "            imaginary_part = value[1]\n",
    "            probabilities.append(real_part**2+imaginary_part**2)\n",
    "        output = []\n",
    "        for shot in range(shots):\n",
    "            cumu = 0\n",
    "            un = True\n",
    "            r = random.random()\n",
    "            for index, probability in enumerate(probabilities):\n",
    "                cumu += probability\n",
    "                if(r < cumu and un):\n",
    "                    raw_output = \"{0:b}\".format(index)\n",
    "                    raw_output = (\"0\"*(self.Qubits-len(raw_output))) + raw_output\n",
    "                    output.append(raw_output)\n",
    "                    un=False\n",
    "        return output\n",
    "   ```"
   ]
  },
  {
   "cell_type": "markdown",
   "metadata": {
    "slideshow": {
     "slide_type": "subslide"
    }
   },
   "source": [
    "![Quantum Volume](https://miro.medium.com/max/2000/1*OXYrDeSYoObfe3QB07L1mA.jpeg)"
   ]
  },
  {
   "cell_type": "markdown",
   "metadata": {
    "slideshow": {
     "slide_type": "subslide"
    }
   },
   "source": [
    "\n",
    "### Quantum simulators to learn\n",
    "\n",
    "####  [Python code](https://github.com/ismaelfaro/py-quantum-simulator)\n",
    "\n",
    "####  [JS code](https://github.com/ismaelfaro/py-quantum-simulator)\n",
    "\n",
    "### Other Quantum Resources\n",
    "\n",
    "#### Composer online: [quantum-computing.ibm.com](http://quantum-computing.ibm.com)\n",
    "\n",
    "#### medium article: [Programming with Quantum Gates](https://medium.com/@jonathan_hui/qc-programming-with-quantum-gates-8996b667d256)\n",
    "\n",
    "#### Qiskit, Quantum Open Source SDK: [qiskit.org](http://qiskit.org)\n",
    "\n",
    "#### Qiskit textbook: [qiskit.org/textbook](http://qiskit.org/textbook)\n",
    "\n",
    "[quantum executions](https://youtu.be/F4SHY8DCtYs)\n"
   ]
  },
  {
   "cell_type": "markdown",
   "metadata": {
    "slideshow": {
     "slide_type": "slide"
    }
   },
   "source": [
    "## Thank you\n",
    "\n",
    "#### @ismaelfaro - IBM Quantum Research"
   ]
  }
 ],
 "metadata": {
  "celltoolbar": "Slideshow",
  "kernelspec": {
   "display_name": "Python 3",
   "language": "python",
   "name": "python3"
  },
  "language_info": {
   "codemirror_mode": {
    "name": "ipython",
    "version": 3
   },
   "file_extension": ".py",
   "mimetype": "text/x-python",
   "name": "python",
   "nbconvert_exporter": "python",
   "pygments_lexer": "ipython3",
   "version": "3.7.8"
  }
 },
 "nbformat": 4,
 "nbformat_minor": 2
}
